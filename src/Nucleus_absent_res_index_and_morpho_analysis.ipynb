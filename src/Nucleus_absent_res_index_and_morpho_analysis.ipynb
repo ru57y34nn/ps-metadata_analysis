{
 "cells": [
  {
   "cell_type": "code",
   "execution_count": 106,
   "metadata": {
    "collapsed": true
   },
   "outputs": [],
   "source": [
    "import sys\n",
    "import os\n",
    "import pathlib2\n",
    "import csv\n",
    "import pandas as pd\n",
    "import seaborn as sns\n",
    "import warnings\n",
    "import matplotlib.pyplot as plt\n",
    "warnings.filterwarnings('ignore')\n",
    "%matplotlib inline"
   ]
  },
  {
   "cell_type": "code",
   "execution_count": 44,
   "metadata": {},
   "outputs": [],
   "source": [
    "home = pathlib2.Path.home()\n",
    "full_path = home/\"documents\"/\"stash\"/\"ps-metadata-analysis\"/\"data\"/\"patch_seq_log_mouse.csv\"\n",
    "full_path = str(full_path)\n",
    "full_path\n",
    "initial = pd.read_csv(full_path)"
   ]
  },
  {
   "cell_type": "code",
   "execution_count": 45,
   "metadata": {},
   "outputs": [
    {
     "data": {
      "text/html": [
       "<div>\n",
       "<style scoped>\n",
       "    .dataframe tbody tr th:only-of-type {\n",
       "        vertical-align: middle;\n",
       "    }\n",
       "\n",
       "    .dataframe tbody tr th {\n",
       "        vertical-align: top;\n",
       "    }\n",
       "\n",
       "    .dataframe thead th {\n",
       "        text-align: right;\n",
       "    }\n",
       "</style>\n",
       "<table border=\"1\" class=\"dataframe\">\n",
       "  <thead>\n",
       "    <tr style=\"text-align: right;\">\n",
       "      <th></th>\n",
       "      <th>Date</th>\n",
       "      <th>Post patch?</th>\n",
       "      <th>Post patch pipette R</th>\n",
       "      <th>Resolution index</th>\n",
       "    </tr>\n",
       "  </thead>\n",
       "  <tbody>\n",
       "    <tr>\n",
       "      <th>4019</th>\n",
       "      <td>2017-10-02</td>\n",
       "      <td>nucleus_absent</td>\n",
       "      <td>10.0</td>\n",
       "      <td>0.132003</td>\n",
       "    </tr>\n",
       "    <tr>\n",
       "      <th>4022</th>\n",
       "      <td>2017-10-02</td>\n",
       "      <td>nucleus_absent</td>\n",
       "      <td>40.0</td>\n",
       "      <td>0.329975</td>\n",
       "    </tr>\n",
       "    <tr>\n",
       "      <th>4029</th>\n",
       "      <td>2017-10-02</td>\n",
       "      <td>nucleus_absent</td>\n",
       "      <td>30.0</td>\n",
       "      <td>0.703208</td>\n",
       "    </tr>\n",
       "    <tr>\n",
       "      <th>4032</th>\n",
       "      <td>2017-10-02</td>\n",
       "      <td>nucleus_absent</td>\n",
       "      <td>1000.0</td>\n",
       "      <td>0.329975</td>\n",
       "    </tr>\n",
       "    <tr>\n",
       "      <th>4034</th>\n",
       "      <td>2017-10-02</td>\n",
       "      <td>nucleus_absent</td>\n",
       "      <td>4.7</td>\n",
       "      <td>0.132003</td>\n",
       "    </tr>\n",
       "  </tbody>\n",
       "</table>\n",
       "</div>"
      ],
      "text/plain": [
       "           Date     Post patch?  Post patch pipette R  Resolution index\n",
       "4019 2017-10-02  nucleus_absent                  10.0          0.132003\n",
       "4022 2017-10-02  nucleus_absent                  40.0          0.329975\n",
       "4029 2017-10-02  nucleus_absent                  30.0          0.703208\n",
       "4032 2017-10-02  nucleus_absent                1000.0          0.329975\n",
       "4034 2017-10-02  nucleus_absent                   4.7          0.132003"
      ]
     },
     "execution_count": 45,
     "metadata": {},
     "output_type": "execute_result"
    }
   ],
   "source": [
    "ps = initial[[\"Date\", \"Post patch?\", \"Post patch pipette R\", \"Resolution index\", \"Bad dates\", \"SM_QC_PF\"]]\n",
    "ps[\"Date\"] = pd.to_datetime(ps[\"Date\"], errors=\"coerce\", format = '%y%m%d')\n",
    "ps = ps[ps[\"Date\"] >= '2017-10-02']\n",
    "ps = ps[ps[\"Bad dates\"] != 'x']\n",
    "ps = ps[ps[\"SM_QC_PF\"] != 'cnt']\n",
    "ps = ps[(ps[\"Post patch?\"] == 'nucleus_absent') | (ps['Post patch?'] == 'no_nucleus_visible')]\n",
    "ps.dropna(subset = [\"Post patch?\", \"Post patch pipette R\", \"Resolution index\"], inplace = True)\n",
    "ps = ps.drop(\"Bad dates\", 1)\n",
    "ps = ps.drop(\"SM_QC_PF\", 1)\n",
    "ps.head()"
   ]
  },
  {
   "cell_type": "code",
   "execution_count": 116,
   "metadata": {},
   "outputs": [
    {
     "data": {
      "text/plain": [
       "<seaborn.axisgrid.FacetGrid at 0xea4b4a8>"
      ]
     },
     "execution_count": 116,
     "metadata": {},
     "output_type": "execute_result"
    },
    {
     "data": {
      "image/png": "[encoded data removed]",
      "text/plain": [
       "<matplotlib.figure.Figure at 0xea4b0f0>"
      ]
     },
     "metadata": {},
     "output_type": "display_data"
    }
   ],
   "source": [
    "sns.lmplot(x = 'Resolution index', y = 'Post patch pipette R',\n",
    "           data = ps, fit_reg = False)"
   ]
  },
  {
   "cell_type": "code",
   "execution_count": 93,
   "metadata": {},
   "outputs": [],
   "source": [
    "full_path = home/\"documents\"/\"stash\"/\"ps-metadata-analysis\"/\"data\"/\"cell_types_cell_report_card.csv\"\n",
    "report_card = pd.read_csv(full_path)"
   ]
  },
  {
   "cell_type": "code",
   "execution_count": 94,
   "metadata": {},
   "outputs": [],
   "source": [
    "rcm = report_card[['cell_specimen_name', 'ims63x_go_no_go']]\n",
    "psm = initial[['Date', 'File', 'Post patch?', 'Post patch pipette R', 'Bad dates', 'SM_QC_PF']]"
   ]
  },
  {
   "cell_type": "code",
   "execution_count": 95,
   "metadata": {},
   "outputs": [],
   "source": [
    "psm[\"Date\"] = pd.to_datetime(psm[\"Date\"], errors=\"coerce\", format = '%y%m%d')\n",
    "psm = psm[psm[\"Date\"] >= '2017-10-02']\n",
    "psm = psm[psm[\"Bad dates\"] != 'x']\n",
    "psm = psm[psm[\"SM_QC_PF\"] != 'cnt']\n",
    "psm = psm[(psm[\"Post patch?\"] == 'nucleus_absent') | (psm['Post patch?'] == 'no_nucleus_visible')]\n",
    "psm.dropna(subset = [\"Post patch?\", \"Post patch pipette R\"], inplace = True)\n",
    "psm = psm.drop(\"Bad dates\", 1)\n",
    "psm = psm.drop(\"SM_QC_PF\", 1)\n",
    "psm.tail()\n",
    "#rcm.tail()\n",
    "morph = pd.merge(left = psm, right = rcm, left_on = 'File', right_on = 'cell_specimen_name', how = 'left')"
   ]
  },
  {
   "cell_type": "code",
   "execution_count": 105,
   "metadata": {},
   "outputs": [
    {
     "data": {
      "text/html": [
       "<div>\n",
       "<style scoped>\n",
       "    .dataframe tbody tr th:only-of-type {\n",
       "        vertical-align: middle;\n",
       "    }\n",
       "\n",
       "    .dataframe tbody tr th {\n",
       "        vertical-align: top;\n",
       "    }\n",
       "\n",
       "    .dataframe thead th {\n",
       "        text-align: right;\n",
       "    }\n",
       "</style>\n",
       "<table border=\"1\" class=\"dataframe\">\n",
       "  <thead>\n",
       "    <tr style=\"text-align: right;\">\n",
       "      <th></th>\n",
       "      <th>Date</th>\n",
       "      <th>File</th>\n",
       "      <th>Post patch?</th>\n",
       "      <th>Post patch pipette R</th>\n",
       "      <th>cell_specimen_name</th>\n",
       "      <th>ims63x_go_no_go</th>\n",
       "    </tr>\n",
       "  </thead>\n",
       "  <tbody>\n",
       "    <tr>\n",
       "      <th>405</th>\n",
       "      <td>2018-01-24</td>\n",
       "      <td>Htr3a-Cre_NO152;Ai14-368862.05.01.02</td>\n",
       "      <td>nucleus_absent</td>\n",
       "      <td>200.0</td>\n",
       "      <td>Htr3a-Cre_NO152;Ai14-368862.05.01.02</td>\n",
       "      <td>63x no go</td>\n",
       "    </tr>\n",
       "    <tr>\n",
       "      <th>414</th>\n",
       "      <td>2018-01-26</td>\n",
       "      <td>Vip-IRES-Cre;Ai14-370736.03.02.02</td>\n",
       "      <td>nucleus_absent</td>\n",
       "      <td>10.0</td>\n",
       "      <td>Vip-IRES-Cre;Ai14-370736.03.02.02</td>\n",
       "      <td>63x no go</td>\n",
       "    </tr>\n",
       "    <tr>\n",
       "      <th>415</th>\n",
       "      <td>2018-01-26</td>\n",
       "      <td>Htr3a-Cre_NO152;Ai14-368865.03.01.01</td>\n",
       "      <td>nucleus_absent</td>\n",
       "      <td>120.0</td>\n",
       "      <td>Htr3a-Cre_NO152;Ai14-368865.03.01.01</td>\n",
       "      <td>63x no go</td>\n",
       "    </tr>\n",
       "    <tr>\n",
       "      <th>418</th>\n",
       "      <td>2018-01-29</td>\n",
       "      <td>Sst-IRES-Cre;Ai14-372545.04.02.01</td>\n",
       "      <td>nucleus_absent</td>\n",
       "      <td>0.0</td>\n",
       "      <td>Sst-IRES-Cre;Ai14-372545.04.02.01</td>\n",
       "      <td>63x no go</td>\n",
       "    </tr>\n",
       "    <tr>\n",
       "      <th>431</th>\n",
       "      <td>2018-01-31</td>\n",
       "      <td>Sst-IRES-Cre;Ai14-372548.03.01.04</td>\n",
       "      <td>nucleus_absent</td>\n",
       "      <td>3.0</td>\n",
       "      <td>Sst-IRES-Cre;Ai14-372548.03.01.04</td>\n",
       "      <td>63x no go</td>\n",
       "    </tr>\n",
       "  </tbody>\n",
       "</table>\n",
       "</div>"
      ],
      "text/plain": [
       "          Date                                  File     Post patch?  \\\n",
       "405 2018-01-24  Htr3a-Cre_NO152;Ai14-368862.05.01.02  nucleus_absent   \n",
       "414 2018-01-26     Vip-IRES-Cre;Ai14-370736.03.02.02  nucleus_absent   \n",
       "415 2018-01-26  Htr3a-Cre_NO152;Ai14-368865.03.01.01  nucleus_absent   \n",
       "418 2018-01-29     Sst-IRES-Cre;Ai14-372545.04.02.01  nucleus_absent   \n",
       "431 2018-01-31     Sst-IRES-Cre;Ai14-372548.03.01.04  nucleus_absent   \n",
       "\n",
       "     Post patch pipette R                    cell_specimen_name  \\\n",
       "405                 200.0  Htr3a-Cre_NO152;Ai14-368862.05.01.02   \n",
       "414                  10.0     Vip-IRES-Cre;Ai14-370736.03.02.02   \n",
       "415                 120.0  Htr3a-Cre_NO152;Ai14-368865.03.01.01   \n",
       "418                   0.0     Sst-IRES-Cre;Ai14-372545.04.02.01   \n",
       "431                   3.0     Sst-IRES-Cre;Ai14-372548.03.01.04   \n",
       "\n",
       "    ims63x_go_no_go  \n",
       "405       63x no go  \n",
       "414       63x no go  \n",
       "415       63x no go  \n",
       "418       63x no go  \n",
       "431       63x no go  "
      ]
     },
     "execution_count": 105,
     "metadata": {},
     "output_type": "execute_result"
    }
   ],
   "source": [
    "morph.dropna(subset = [\"ims63x_go_no_go\"], inplace = True)\n",
    "morph.tail()"
   ]
  },
  {
   "cell_type": "code",
   "execution_count": 110,
   "metadata": {},
   "outputs": [
    {
     "data": {
      "text/plain": [
       "<matplotlib.text.Text at 0xd9bc240>"
      ]
     },
     "execution_count": 110,
     "metadata": {},
     "output_type": "execute_result"
    },
    {
     "data": {
      "image/png": "[encoded data removed]",
      "text/plain": [
       "<matplotlib.figure.Figure at 0xca70128>"
      ]
     },
     "metadata": {},
     "output_type": "display_data"
    }
   ],
   "source": [
    "sns.set_context = ('poster') \n",
    "sns.boxplot(x = 'ims63x_go_no_go', y = 'Post patch pipette R',\n",
    "            data = morph).set_title(\"Post patch pipette R by 63x outcome - nucleus absent \")"
   ]
  },
  {
   "cell_type": "code",
   "execution_count": null,
   "metadata": {
    "collapsed": true
   },
   "outputs": [],
   "source": []
  },
  {
   "cell_type": "code",
   "execution_count": null,
   "metadata": {
    "collapsed": true
   },
   "outputs": [],
   "source": []
  },
  {
   "cell_type": "code",
   "execution_count": null,
   "metadata": {
    "collapsed": true
   },
   "outputs": [],
   "source": []
  },
  {
   "cell_type": "code",
   "execution_count": null,
   "metadata": {
    "collapsed": true
   },
   "outputs": [],
   "source": []
  },
  {
   "cell_type": "code",
   "execution_count": null,
   "metadata": {
    "collapsed": true
   },
   "outputs": [],
   "source": []
  },
  {
   "cell_type": "code",
   "execution_count": null,
   "metadata": {
    "collapsed": true
   },
   "outputs": [],
   "source": []
  },
  {
   "cell_type": "code",
   "execution_count": null,
   "metadata": {
    "collapsed": true
   },
   "outputs": [],
   "source": []
  },
  {
   "cell_type": "code",
   "execution_count": null,
   "metadata": {
    "collapsed": true
   },
   "outputs": [],
   "source": []
  },
  {
   "cell_type": "code",
   "execution_count": null,
   "metadata": {
    "collapsed": true
   },
   "outputs": [],
   "source": []
  }
 ],
 "metadata": {
  "kernelspec": {
   "display_name": "Python 2",
   "language": "python",
   "name": "python2"
  },
  "language_info": {
   "codemirror_mode": {
    "name": "ipython",
    "version": 2
   },
   "file_extension": ".py",
   "mimetype": "text/x-python",
   "name": "python",
   "nbconvert_exporter": "python",
   "pygments_lexer": "ipython2",
   "version": "2.7.13"
  }
 },
 "nbformat": 4,
 "nbformat_minor": 2
}
